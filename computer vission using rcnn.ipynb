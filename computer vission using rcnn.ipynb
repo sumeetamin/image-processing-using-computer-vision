The document outlines an assessment framework for a computer vision module involving three tasks:

### Task 1: Image Segmentation and Detection (40%)
- **Objective:** 
  - Used RNN computer vision techniques to segment ball images from a given dataset.
  - Evaluated the segmentation using the Dice Similarity Score (DS).

- **Steps:**
  - Segmented the ball objects from the background in each image.
  - Calculated the Dice Similarity Score for each image using the provided formula.
  - Generated a bar graph to visualize the DS for all 63 images and compute the mean and standard deviation.

### Task 2: Feature Calculation (30%)
- **Objective:** 
  - Extracted shape and texture features from the segmented ball patches.

- **Steps:**
  - Calculated shape features (solidity, non-compactness, circularity, eccentricity) for each ball.
  - Calculated texture features using a grey-level co-occurrence matrix for different color channels (RGB) and orientations (0°, 45°, 90°, 135°).
  - Visualize the distributions of features per ball type.
  - Discussed which features are most discriminative for differentiating ball types.

### Task 3: Object Tracking (30%)
- **Objective:** 
  - Implement a Kalman filter to estimate the true coordinates of a moving ball based on noisy data.

- **Steps:**
  - Implemented the Kalman filter with a constant velocity motion model and Cartesian observation model.
  - Compared the estimated trajectory to the real and noisy coordinates.
  - Plot the estimated trajectory alongside the real and noisy data.
  - Calculate the mean and standard deviation of the Root Mean Squared Error (RMSE).
